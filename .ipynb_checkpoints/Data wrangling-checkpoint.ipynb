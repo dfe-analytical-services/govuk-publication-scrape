{
 "cells": [
  {
   "cell_type": "code",
   "execution_count": 8,
   "metadata": {},
   "outputs": [],
   "source": [
    "import json\n",
    "import os\n",
    "import pandas as pd\n",
    "from dateutil.parser import parse\n",
    "import numpy as np\n",
    "import datetime\n",
    "import csv\n",
    "\n",
    "path = 'C:/Users/lhull/OneDrive - Department for Education/Desktop/GOV PUBL/Data'\n",
    "os.chdir(path)\n",
    "#files_to_merge = os.listdir(os.getcwd())\n",
    "#files_to_merge"
   ]
  },
  {
   "cell_type": "code",
   "execution_count": 9,
   "metadata": {},
   "outputs": [],
   "source": [
    "first = json.load(open('govuk_publications.json'))\n",
    "second = json.load(open('govuk_publications2.json'))\n",
    "third = json.load(open('govuk_publications3.json'))\n",
    "fourth = json.load(open('govuk_publications4.json'))\n",
    "all_pubs = first + second + third + fourth\n"
   ]
  },
  {
   "cell_type": "code",
   "execution_count": 10,
   "metadata": {},
   "outputs": [],
   "source": [
    "#All publications\n",
    "date_all = [item['Date'] for item in all_pubs]\n",
    "pub_num_all = [item['Publication_Number'] for item in all_pubs]\n",
    "number = [1]*len(date_all)\n",
    "\n",
    "#Turn dates into date format\n",
    "date_all = [parse(x, dayfirst = True) for x in date_all]\n",
    "date_all = [datetime.datetime.date(x) for x in date_all]\n",
    "\n",
    "#Put into dataframes\n",
    "date_n_pubs_df = pd.DataFrame({'Date': date_all, 'Pubs_number': pub_num_all, 'number': number})\n",
    "\n",
    "#Dedupe\n",
    "date_n_pubs_df = date_n_pubs_df.drop_duplicates(subset = 'Pubs_number')\n",
    "\n",
    "#Group into week\n",
    "date_n_pubs_df.set_index(date_n_pubs_df['Date'], inplace = True)\n",
    "date_n_pubs_df.index = pd.to_datetime(date_n_pubs_df.index)\n",
    "weeks = date_n_pubs_df.resample('W').sum() #https://pandas.pydata.org/pandas-docs/stable/generated/pandas.DataFrame.resample.html\n",
    "months = date_n_pubs_df.resample('M').sum()\n",
    "\n",
    "weeks.to_csv('all_publications.csv', index = True, header = True)\n",
    "months.to_csv('all_publicationsMonth.csv', index = True, header = True)"
   ]
  },
  {
   "cell_type": "code",
   "execution_count": 11,
   "metadata": {},
   "outputs": [],
   "source": [
    "#DfE publications\n",
    "\n",
    "dfe_pubs = []\n",
    "\n",
    "for publication in all_pubs:\n",
    "    for org in publication['Organisations']:\n",
    "        if 'DfE' in org['Organisation_Abbreviation']:\n",
    "            dfe_pubs.append(publication)\n",
    "\n",
    "date_dfe = [item['Date'] for item in dfe_pubs]\n",
    "pub_num_dfe = [item['Publication_Number'] for item in dfe_pubs]\n",
    "number_publications = [1]*len(date_dfe)\n",
    "\n",
    "#Turn dates into date format\n",
    "date_dfe = [parse(x, dayfirst = True) for x in date_dfe]\n",
    "date_dfe = [datetime.datetime.date(x) for x in date_dfe]\n",
    "\n",
    "#Put into dataframes\n",
    "date_n_pubs_dfe = pd.DataFrame({'Date': date_dfe, 'Pubs_number': pub_num_dfe, 'number': number_publications})\n",
    "\n",
    "#Dedupe\n",
    "date_n_pubs_dfe = date_n_pubs_dfe.drop_duplicates(subset = 'Pubs_number')\n",
    "\n",
    "#Turn dates into date format\n",
    "\n",
    "#Group into weeks\n",
    "date_n_pubs_dfe.set_index(date_n_pubs_dfe['Date'], inplace = True)\n",
    "date_n_pubs_dfe.index = pd.to_datetime(date_n_pubs_dfe.index)\n",
    "weeksdfe = date_n_pubs_dfe.resample('W').sum() #https://pandas.pydata.org/pandas-docs/stable/generated/pandas.DataFrame.resample.html\n",
    "months = date_n_pubs_dfe.resample('M').sum()\n",
    "\n",
    "#Save to path\n",
    "weeksdfe.to_csv('dfe_publications.csv', index = True, header = True)\n",
    "months.to_csv('dfe_publicationsMonth.csv', index = True, header = True)"
   ]
  },
  {
   "cell_type": "code",
   "execution_count": null,
   "metadata": {
    "collapsed": true
   },
   "outputs": [],
   "source": []
  }
 ],
 "metadata": {
  "kernelspec": {
   "display_name": "Python 2",
   "language": "python",
   "name": "python2"
  },
  "language_info": {
   "codemirror_mode": {
    "name": "ipython",
    "version": 2
   },
   "file_extension": ".py",
   "mimetype": "text/x-python",
   "name": "python",
   "nbconvert_exporter": "python",
   "pygments_lexer": "ipython2",
   "version": "2.7.14"
  }
 },
 "nbformat": 4,
 "nbformat_minor": 2
}
