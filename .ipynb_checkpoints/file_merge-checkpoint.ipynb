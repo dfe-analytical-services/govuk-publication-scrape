{
 "cells": [
  {
   "cell_type": "markdown",
   "metadata": {
    "collapsed": true
   },
   "source": [
    "<b>Name</b>: Merging large files<br>\n",
    "<b>Purpose</b>: This script will merge large files into one<br>\n",
    "<b>Project</b>: Education Standards Evidence and Dissemination Division <br>\n",
    "<b>Date</b>: 09/03/2017 <br>\n",
    "<b>Creator</b>: Dr. T Jucikas <br>\n",
    "<b>Notes</b>: "
   ]
  },
  {
   "cell_type": "code",
   "execution_count": 1,
   "metadata": {
    "collapsed": true
   },
   "outputs": [],
   "source": [
    "# OS library will allow us to navigate to the directory where the files are\n",
    "import os"
   ]
  },
  {
   "cell_type": "code",
   "execution_count": 2,
   "metadata": {},
   "outputs": [
    {
     "name": "stdout",
     "output_type": "stream",
     "text": [
      "C:\\Users\\lhull\n"
     ]
    }
   ],
   "source": [
    "print os.getcwd()"
   ]
  },
  {
   "cell_type": "code",
   "execution_count": 3,
   "metadata": {
    "collapsed": true
   },
   "outputs": [],
   "source": [
    "# Specify the path to navigate to\n",
    "path = 'C:/Users/lhull/OneDrive - Department for Education/Desktop/GOV PUBL'\n",
    "os.chdir(path)"
   ]
  },
  {
   "cell_type": "code",
   "execution_count": 4,
   "metadata": {
    "collapsed": true
   },
   "outputs": [],
   "source": [
    "# Get all the files in the directory\n",
    "files_to_merge = os.listdir(os.getcwd())"
   ]
  },
  {
   "cell_type": "code",
   "execution_count": 5,
   "metadata": {
    "collapsed": true
   },
   "outputs": [],
   "source": [
    "# open main file for writing in all the files that are intended to be merged\n",
    "f_final = open('combined_file.json', 'w')"
   ]
  },
  {
   "cell_type": "code",
   "execution_count": 6,
   "metadata": {},
   "outputs": [
    {
     "name": "stdout",
     "output_type": "stream",
     "text": [
      "EventList-0-4000000-1.csv\n",
      "EventList-0-4000000-2.csv\n",
      "EventList-0-4000000-3.csv\n",
      "EventList-0-4000000-4.csv\n",
      "EventList-0-4000000-5.csv\n",
      "EventList-0-4000000-6.csv\n",
      "EventList-0-4000000-7.csv\n",
      "EventList-0-4000000-8.csv\n"
     ]
    }
   ],
   "source": [
    "# Set a counter which can be used to skip a required number of lines\n",
    "counter = 0\n",
    "\n",
    "# Iterate over all the discovered files\n",
    "for file_name in files_to_merge:\n",
    "    # Work only with files ending with a specified string\n",
    "    if file_name.endswith('.json'):\n",
    "        # Printing the file name for progress display purposes\n",
    "        print file_name\n",
    "        # Opening files one by one\n",
    "        with open(file_name, 'r') as f:\n",
    "            # Once the file is opened iterate over all of the lines\n",
    "            for line in f:\n",
    "                # Apply filtering - remove the headers by changing this number. Note, that it also removes the headers for the first file\n",
    "                if counter > 8:\n",
    "                    # Write into the final file only after the n lines are skipped\n",
    "                    f_final.write(line)\n",
    "                # Increase the counter\n",
    "                counter = counter + 1\n",
    "        # Reset the counter for the next file\n",
    "        counter = 0"
   ]
  },
  {
   "cell_type": "code",
   "execution_count": 7,
   "metadata": {
    "collapsed": true
   },
   "outputs": [],
   "source": [
    "# close the final file\n",
    "f_final.close()"
   ]
  },
  {
   "cell_type": "code",
   "execution_count": null,
   "metadata": {
    "collapsed": true
   },
   "outputs": [],
   "source": []
  }
 ],
 "metadata": {
  "anaconda-cloud": {},
  "kernelspec": {
   "display_name": "Python 2",
   "language": "python",
   "name": "python2"
  },
  "language_info": {
   "codemirror_mode": {
    "name": "ipython",
    "version": 2
   },
   "file_extension": ".py",
   "mimetype": "text/x-python",
   "name": "python",
   "nbconvert_exporter": "python",
   "pygments_lexer": "ipython2",
   "version": "2.7.14"
  }
 },
 "nbformat": 4,
 "nbformat_minor": 1
}
